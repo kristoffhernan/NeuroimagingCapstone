{
 "cells": [
  {
   "cell_type": "code",
   "execution_count": null,
   "id": "4188e79b",
   "metadata": {},
   "outputs": [],
   "source": [
    "import psutil\n",
    "import gc\n",
    "import os\n",
    "import pandas as pd\n",
    "import zipfile\n",
    "import numpy as np\n",
    "import nibabel as nib\n",
    "from io import BytesIO\n",
    "import matplotlib.pyplot as plt\n",
    "import nilearn as nil # https://nilearn.github.io/stable/quickstart.html\n",
    "import time\n",
    "from nilearn import plotting\n",
    "\n",
    "from multiprocessing import Pool"
   ]
  },
  {
   "cell_type": "markdown",
   "id": "9f59abf2",
   "metadata": {},
   "source": [
    "## Reading Nifti Images"
   ]
  },
  {
   "cell_type": "code",
   "execution_count": null,
   "id": "503ffb12",
   "metadata": {},
   "outputs": [],
   "source": [
    "path = r'/Capstone-Project/'\n",
    "ROOT_PATH = path\n",
    "os.chdir(path)\n",
    "\n",
    "\n",
    "def get_brain_data(zip_path, num = None, matrix_only = False):\n",
    "  '''\n",
    "  Returns a list of lists. Each sub list is a patient, containing the nifti object and numpy array of intensities (x res, y res, slice)\n",
    "\n",
    "    Parameters:\n",
    "      zip_path (str): Path of zip file containing containing multiple .nifti files \n",
    "    \n",
    "    Returns:\n",
    "      brain_data (list): List of lists of a patients brain volume object and brain volume data intensities\n",
    "  '''\n",
    "  brain_data = []\n",
    "  identifiers = []\n",
    "\n",
    "  # https://neurostars.org/t/writing-nibabel-nifti1image-objects-into-bytes-in-memory-instead-of-on-disk/3899/3\n",
    "  with zipfile.ZipFile(zip_path, 'r') as zp:\n",
    "      \n",
    "    files = zp.namelist()\n",
    "    print(files)\n",
    "    if num is None:\n",
    "      num = len(files)\n",
    "\n",
    "    for idx, file in enumerate(files[:num]): # if code is taking too long, subsect smaller size\n",
    "        identifiers.append(file.split('/')[1])\n",
    "        binary_file = zp.open(file, 'r').read()\n",
    "        bb = BytesIO(binary_file)\n",
    "        fh = nib.FileHolder(fileobj=bb)\n",
    "        \n",
    "\n",
    "        # type nifti object\n",
    "        brain_vol = nib.Nifti1Image.from_file_map({'header': fh, 'image': fh})\n",
    "\n",
    "        # turns object into numpy array (brain intensities)\n",
    "        brain_vol_data = brain_vol.get_fdata()\n",
    "\n",
    "        del binary_file\n",
    "        if matrix_only:\n",
    "          del brain_vol\n",
    "          print(brain_vol_data.shape)\n",
    "          brain_data.append([brain_vol_data[0, :, :, :]])\n",
    "        else:\n",
    "          brain_data.append([brain_vol, brain_vol_data])\n",
    "        gc.collect()\n",
    "        process = psutil.Process()\n",
    "        memory_info = process.memory_info()\n",
    "        # print(memory_info)\n",
    "        if idx % 10 == 0:\n",
    "          print(f\"After loading {idx + 1} images, Memory used: {memory_info.rss / 1024 / 1024:.2f} MB\")\n",
    "        #print(f\"Finish reading {idx}\")\n",
    "\n",
    "  zp.close()\n",
    "  if matrix_only:\n",
    "    return brain_data, identifiers\n",
    "  else:\n",
    "    return brain_data"
   ]
  },
  {
   "cell_type": "markdown",
   "id": "b06e62d7",
   "metadata": {},
   "source": [
    "## Read label"
   ]
  },
  {
   "cell_type": "code",
   "execution_count": null,
   "id": "574dfb64",
   "metadata": {},
   "outputs": [],
   "source": [
    "base_path = 'data/adni-data/'\n",
    "baseline_csv = 'ADNI1_Complete_2Yr_3T_3_01_2023.csv'  # data dictionary\n",
    "\n",
    "data = os.path.join(base_path, baseline_path, baseline_csv)\n",
    "df = pd.read_csv(data, parse_dates=['Acq Date']).drop_duplicates('Subject')\n",
    "df['Group'] = df['Group'].map({'CN':0, 'MCI':1, 'AD':2})\n",
    "df.head()"
   ]
  },
  {
   "cell_type": "markdown",
   "id": "1249be7b",
   "metadata": {},
   "source": [
    "## Base Plotting"
   ]
  },
  {
   "cell_type": "code",
   "execution_count": null,
   "id": "b88e27b4-5853-4a59-8bdd-f417183f9c91",
   "metadata": {},
   "outputs": [],
   "source": [
    "base_path = 'data/adni-data/'\n",
    "baseline_zip = 'ADNI1_Complete_2Yr_3T.zip'\n",
    "\n",
    "brain_data = get_brain_data(os.path.join(base_path, baseline_zip))\n",
    "\n",
    "brain_vol, brain_vol_data = brain_data[0]\n",
    "\n",
    "brain_vol_data.shape"
   ]
  },
  {
   "cell_type": "markdown",
   "id": "fbe9dc64",
   "metadata": {},
   "source": [
    "## Shape Differences"
   ]
  },
  {
   "cell_type": "code",
   "execution_count": null,
   "id": "fa0fd9b4",
   "metadata": {},
   "outputs": [],
   "source": [
    "img_shapes = [brain[1].shape for brain in brain_data]\n",
    "set(img_shapes)"
   ]
  }
 ],
 "metadata": {
  "kernelspec": {
   "display_name": "Python 3 (ipykernel)",
   "language": "python",
   "name": "python3"
  },
  "language_info": {
   "codemirror_mode": {
    "name": "ipython",
    "version": 3
   },
   "file_extension": ".py",
   "mimetype": "text/x-python",
   "name": "python",
   "nbconvert_exporter": "python",
   "pygments_lexer": "ipython3",
   "version": "3.8.12"
  }
 },
 "nbformat": 4,
 "nbformat_minor": 5
}
