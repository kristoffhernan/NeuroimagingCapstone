{
 "cells": [
  {
   "cell_type": "markdown",
   "metadata": {
    "id": "WrEG4FZOmlVe"
   },
   "source": [
    "## Importing libraries"
   ]
  },
  {
   "cell_type": "code",
   "execution_count": 1,
   "metadata": {
    "colab": {
     "base_uri": "https://localhost:8080/"
    },
    "id": "Nk-RqOYE0okd",
    "outputId": "63e2d4c5-c5c1-4e9e-a431-f17e475c803c"
   },
   "outputs": [
    {
     "name": "stderr",
     "output_type": "stream",
     "text": [
      "Matplotlib is building the font cache using fc-list. This may take a moment.\n"
     ]
    }
   ],
   "source": [
    "import os\n",
    "import pandas as pd\n",
    "import zipfile\n",
    "import numpy as np\n",
    "import squarify\n",
    "import matplotlib.pyplot as plt\n",
    "from matplotlib import ticker\n",
    "import seaborn as sns  "
   ]
  },
  {
   "cell_type": "markdown",
   "metadata": {
    "id": "UzHh4HZ1jr8T"
   },
   "source": [
    "# EDA\n",
    "\n",
    "The purpose of our EDA is to find insights that will help us later to how clean our data and ultimately create our models.\n",
    "\n",
    "\n",
    "**Note**: \n",
    "\n",
    "1.This is the EDA for baseline MRI data, which is our data of focus in the first experiment. In the first experiment, we plan to do a cross-sectional prediction, namely predicting whether the patient has Alzheimer or not. We will take care of the temporal effect in the second experiment.\n",
    "\n",
    "2.This is the EDA for meta data/data dictionary only. The EDA for images themselves is in {TODO: fill in the blank} file\n"
   ]
  },
  {
   "cell_type": "code",
   "execution_count": 2,
   "metadata": {},
   "outputs": [
    {
     "data": {
      "text/plain": [
       "'/accounts/grad/khern045/NeuroimagingCapstone/scripts'"
      ]
     },
     "execution_count": 2,
     "metadata": {},
     "output_type": "execute_result"
    }
   ],
   "source": [
    "os.getcwd()"
   ]
  },
  {
   "cell_type": "markdown",
   "metadata": {
    "id": "To54QyYA9ByX"
   },
   "source": [
    "Creating data paths"
   ]
  },
  {
   "cell_type": "code",
   "execution_count": 14,
   "metadata": {
    "id": "_etWhaUjBNdZ"
   },
   "outputs": [
    {
     "data": {
      "text/plain": [
       "'/accounts/grad/khern045/NeuroimagingCapstone/scripts/ADNI1_Baseline_3T.csv'"
      ]
     },
     "execution_count": 14,
     "metadata": {},
     "output_type": "execute_result"
    }
   ],
   "source": [
    "base_path = os.path.join('/accounts', 'grad', 'khern045', 'NeuroimagingCapstone')\n",
    "bl_3t_md_file = 'ADNI1_Baseline_3T.csv'  # data dictionary\n",
    "bl_path = os.path.join(base_path, 'data', 'adni1-data', bl_3t_md_file)\n",
    "\n",
    "dir_path = os.path.realpath(bl_3t_md_file)\n",
    "dir_path"
   ]
  },
  {
   "cell_type": "markdown",
   "metadata": {
    "id": "3LOvlKc6R-2M"
   },
   "source": [
    "Read in data"
   ]
  },
  {
   "cell_type": "code",
   "execution_count": 10,
   "metadata": {
    "colab": {
     "base_uri": "https://localhost:8080/",
     "height": 206
    },
    "id": "jsboYxXXdAsF",
    "outputId": "04390ea6-71f3-4a72-bcc8-5d4925f67a66"
   },
   "outputs": [
    {
     "ename": "FileNotFoundError",
     "evalue": "[Errno 2] No such file or directory: '/accounts/grad/khern045/NeuroimagingCapstone/data/adni1-data/ADNI1_Baseline_3T.csv'",
     "output_type": "error",
     "traceback": [
      "\u001b[0;31m---------------------------------------------------------------------------\u001b[0m",
      "\u001b[0;31mFileNotFoundError\u001b[0m                         Traceback (most recent call last)",
      "Input \u001b[0;32mIn [10]\u001b[0m, in \u001b[0;36m<cell line: 1>\u001b[0;34m()\u001b[0m\n\u001b[0;32m----> 1\u001b[0m df \u001b[38;5;241m=\u001b[39m \u001b[43mpd\u001b[49m\u001b[38;5;241;43m.\u001b[39;49m\u001b[43mread_csv\u001b[49m\u001b[43m(\u001b[49m\u001b[43mbaseline_path\u001b[49m\u001b[43m,\u001b[49m\u001b[43m \u001b[49m\u001b[43mparse_dates\u001b[49m\u001b[38;5;241;43m=\u001b[39;49m\u001b[43m[\u001b[49m\u001b[38;5;124;43m'\u001b[39;49m\u001b[38;5;124;43mAcq Date\u001b[39;49m\u001b[38;5;124;43m'\u001b[39;49m\u001b[43m]\u001b[49m\u001b[43m)\u001b[49m\n\u001b[1;32m      2\u001b[0m df\u001b[38;5;241m.\u001b[39mhead()\n",
      "File \u001b[0;32m/usr/local/linux/anaconda3.8/lib/python3.8/site-packages/pandas/io/parsers.py:610\u001b[0m, in \u001b[0;36mread_csv\u001b[0;34m(filepath_or_buffer, sep, delimiter, header, names, index_col, usecols, squeeze, prefix, mangle_dupe_cols, dtype, engine, converters, true_values, false_values, skipinitialspace, skiprows, skipfooter, nrows, na_values, keep_default_na, na_filter, verbose, skip_blank_lines, parse_dates, infer_datetime_format, keep_date_col, date_parser, dayfirst, cache_dates, iterator, chunksize, compression, thousands, decimal, lineterminator, quotechar, quoting, doublequote, escapechar, comment, encoding, dialect, error_bad_lines, warn_bad_lines, delim_whitespace, low_memory, memory_map, float_precision, storage_options)\u001b[0m\n\u001b[1;32m    605\u001b[0m kwds_defaults \u001b[38;5;241m=\u001b[39m _refine_defaults_read(\n\u001b[1;32m    606\u001b[0m     dialect, delimiter, delim_whitespace, engine, sep, defaults\u001b[38;5;241m=\u001b[39m{\u001b[38;5;124m\"\u001b[39m\u001b[38;5;124mdelimiter\u001b[39m\u001b[38;5;124m\"\u001b[39m: \u001b[38;5;124m\"\u001b[39m\u001b[38;5;124m,\u001b[39m\u001b[38;5;124m\"\u001b[39m}\n\u001b[1;32m    607\u001b[0m )\n\u001b[1;32m    608\u001b[0m kwds\u001b[38;5;241m.\u001b[39mupdate(kwds_defaults)\n\u001b[0;32m--> 610\u001b[0m \u001b[38;5;28;01mreturn\u001b[39;00m \u001b[43m_read\u001b[49m\u001b[43m(\u001b[49m\u001b[43mfilepath_or_buffer\u001b[49m\u001b[43m,\u001b[49m\u001b[43m \u001b[49m\u001b[43mkwds\u001b[49m\u001b[43m)\u001b[49m\n",
      "File \u001b[0;32m/usr/local/linux/anaconda3.8/lib/python3.8/site-packages/pandas/io/parsers.py:462\u001b[0m, in \u001b[0;36m_read\u001b[0;34m(filepath_or_buffer, kwds)\u001b[0m\n\u001b[1;32m    459\u001b[0m _validate_names(kwds\u001b[38;5;241m.\u001b[39mget(\u001b[38;5;124m\"\u001b[39m\u001b[38;5;124mnames\u001b[39m\u001b[38;5;124m\"\u001b[39m, \u001b[38;5;28;01mNone\u001b[39;00m))\n\u001b[1;32m    461\u001b[0m \u001b[38;5;66;03m# Create the parser.\u001b[39;00m\n\u001b[0;32m--> 462\u001b[0m parser \u001b[38;5;241m=\u001b[39m \u001b[43mTextFileReader\u001b[49m\u001b[43m(\u001b[49m\u001b[43mfilepath_or_buffer\u001b[49m\u001b[43m,\u001b[49m\u001b[43m \u001b[49m\u001b[38;5;241;43m*\u001b[39;49m\u001b[38;5;241;43m*\u001b[39;49m\u001b[43mkwds\u001b[49m\u001b[43m)\u001b[49m\n\u001b[1;32m    464\u001b[0m \u001b[38;5;28;01mif\u001b[39;00m chunksize \u001b[38;5;129;01mor\u001b[39;00m iterator:\n\u001b[1;32m    465\u001b[0m     \u001b[38;5;28;01mreturn\u001b[39;00m parser\n",
      "File \u001b[0;32m/usr/local/linux/anaconda3.8/lib/python3.8/site-packages/pandas/io/parsers.py:819\u001b[0m, in \u001b[0;36mTextFileReader.__init__\u001b[0;34m(self, f, engine, **kwds)\u001b[0m\n\u001b[1;32m    816\u001b[0m \u001b[38;5;28;01mif\u001b[39;00m \u001b[38;5;124m\"\u001b[39m\u001b[38;5;124mhas_index_names\u001b[39m\u001b[38;5;124m\"\u001b[39m \u001b[38;5;129;01min\u001b[39;00m kwds:\n\u001b[1;32m    817\u001b[0m     \u001b[38;5;28mself\u001b[39m\u001b[38;5;241m.\u001b[39moptions[\u001b[38;5;124m\"\u001b[39m\u001b[38;5;124mhas_index_names\u001b[39m\u001b[38;5;124m\"\u001b[39m] \u001b[38;5;241m=\u001b[39m kwds[\u001b[38;5;124m\"\u001b[39m\u001b[38;5;124mhas_index_names\u001b[39m\u001b[38;5;124m\"\u001b[39m]\n\u001b[0;32m--> 819\u001b[0m \u001b[38;5;28mself\u001b[39m\u001b[38;5;241m.\u001b[39m_engine \u001b[38;5;241m=\u001b[39m \u001b[38;5;28;43mself\u001b[39;49m\u001b[38;5;241;43m.\u001b[39;49m\u001b[43m_make_engine\u001b[49m\u001b[43m(\u001b[49m\u001b[38;5;28;43mself\u001b[39;49m\u001b[38;5;241;43m.\u001b[39;49m\u001b[43mengine\u001b[49m\u001b[43m)\u001b[49m\n",
      "File \u001b[0;32m/usr/local/linux/anaconda3.8/lib/python3.8/site-packages/pandas/io/parsers.py:1050\u001b[0m, in \u001b[0;36mTextFileReader._make_engine\u001b[0;34m(self, engine)\u001b[0m\n\u001b[1;32m   1046\u001b[0m     \u001b[38;5;28;01mraise\u001b[39;00m \u001b[38;5;167;01mValueError\u001b[39;00m(\n\u001b[1;32m   1047\u001b[0m         \u001b[38;5;124mf\u001b[39m\u001b[38;5;124m\"\u001b[39m\u001b[38;5;124mUnknown engine: \u001b[39m\u001b[38;5;132;01m{\u001b[39;00mengine\u001b[38;5;132;01m}\u001b[39;00m\u001b[38;5;124m (valid options are \u001b[39m\u001b[38;5;132;01m{\u001b[39;00mmapping\u001b[38;5;241m.\u001b[39mkeys()\u001b[38;5;132;01m}\u001b[39;00m\u001b[38;5;124m)\u001b[39m\u001b[38;5;124m\"\u001b[39m\n\u001b[1;32m   1048\u001b[0m     )\n\u001b[1;32m   1049\u001b[0m \u001b[38;5;66;03m# error: Too many arguments for \"ParserBase\"\u001b[39;00m\n\u001b[0;32m-> 1050\u001b[0m \u001b[38;5;28;01mreturn\u001b[39;00m \u001b[43mmapping\u001b[49m\u001b[43m[\u001b[49m\u001b[43mengine\u001b[49m\u001b[43m]\u001b[49m\u001b[43m(\u001b[49m\u001b[38;5;28;43mself\u001b[39;49m\u001b[38;5;241;43m.\u001b[39;49m\u001b[43mf\u001b[49m\u001b[43m,\u001b[49m\u001b[43m \u001b[49m\u001b[38;5;241;43m*\u001b[39;49m\u001b[38;5;241;43m*\u001b[39;49m\u001b[38;5;28;43mself\u001b[39;49m\u001b[38;5;241;43m.\u001b[39;49m\u001b[43moptions\u001b[49m\u001b[43m)\u001b[49m\n",
      "File \u001b[0;32m/usr/local/linux/anaconda3.8/lib/python3.8/site-packages/pandas/io/parsers.py:1867\u001b[0m, in \u001b[0;36mCParserWrapper.__init__\u001b[0;34m(self, src, **kwds)\u001b[0m\n\u001b[1;32m   1864\u001b[0m kwds[\u001b[38;5;124m\"\u001b[39m\u001b[38;5;124musecols\u001b[39m\u001b[38;5;124m\"\u001b[39m] \u001b[38;5;241m=\u001b[39m \u001b[38;5;28mself\u001b[39m\u001b[38;5;241m.\u001b[39musecols\n\u001b[1;32m   1866\u001b[0m \u001b[38;5;66;03m# open handles\u001b[39;00m\n\u001b[0;32m-> 1867\u001b[0m \u001b[38;5;28;43mself\u001b[39;49m\u001b[38;5;241;43m.\u001b[39;49m\u001b[43m_open_handles\u001b[49m\u001b[43m(\u001b[49m\u001b[43msrc\u001b[49m\u001b[43m,\u001b[49m\u001b[43m \u001b[49m\u001b[43mkwds\u001b[49m\u001b[43m)\u001b[49m\n\u001b[1;32m   1868\u001b[0m \u001b[38;5;28;01massert\u001b[39;00m \u001b[38;5;28mself\u001b[39m\u001b[38;5;241m.\u001b[39mhandles \u001b[38;5;129;01mis\u001b[39;00m \u001b[38;5;129;01mnot\u001b[39;00m \u001b[38;5;28;01mNone\u001b[39;00m\n\u001b[1;32m   1869\u001b[0m \u001b[38;5;28;01mfor\u001b[39;00m key \u001b[38;5;129;01min\u001b[39;00m (\u001b[38;5;124m\"\u001b[39m\u001b[38;5;124mstorage_options\u001b[39m\u001b[38;5;124m\"\u001b[39m, \u001b[38;5;124m\"\u001b[39m\u001b[38;5;124mencoding\u001b[39m\u001b[38;5;124m\"\u001b[39m, \u001b[38;5;124m\"\u001b[39m\u001b[38;5;124mmemory_map\u001b[39m\u001b[38;5;124m\"\u001b[39m, \u001b[38;5;124m\"\u001b[39m\u001b[38;5;124mcompression\u001b[39m\u001b[38;5;124m\"\u001b[39m):\n",
      "File \u001b[0;32m/usr/local/linux/anaconda3.8/lib/python3.8/site-packages/pandas/io/parsers.py:1362\u001b[0m, in \u001b[0;36mParserBase._open_handles\u001b[0;34m(self, src, kwds)\u001b[0m\n\u001b[1;32m   1358\u001b[0m \u001b[38;5;28;01mdef\u001b[39;00m \u001b[38;5;21m_open_handles\u001b[39m(\u001b[38;5;28mself\u001b[39m, src: FilePathOrBuffer, kwds: Dict[\u001b[38;5;28mstr\u001b[39m, Any]) \u001b[38;5;241m-\u001b[39m\u001b[38;5;241m>\u001b[39m \u001b[38;5;28;01mNone\u001b[39;00m:\n\u001b[1;32m   1359\u001b[0m     \u001b[38;5;124;03m\"\"\"\u001b[39;00m\n\u001b[1;32m   1360\u001b[0m \u001b[38;5;124;03m    Let the readers open IOHanldes after they are done with their potential raises.\u001b[39;00m\n\u001b[1;32m   1361\u001b[0m \u001b[38;5;124;03m    \"\"\"\u001b[39;00m\n\u001b[0;32m-> 1362\u001b[0m     \u001b[38;5;28mself\u001b[39m\u001b[38;5;241m.\u001b[39mhandles \u001b[38;5;241m=\u001b[39m \u001b[43mget_handle\u001b[49m\u001b[43m(\u001b[49m\n\u001b[1;32m   1363\u001b[0m \u001b[43m        \u001b[49m\u001b[43msrc\u001b[49m\u001b[43m,\u001b[49m\n\u001b[1;32m   1364\u001b[0m \u001b[43m        \u001b[49m\u001b[38;5;124;43m\"\u001b[39;49m\u001b[38;5;124;43mr\u001b[39;49m\u001b[38;5;124;43m\"\u001b[39;49m\u001b[43m,\u001b[49m\n\u001b[1;32m   1365\u001b[0m \u001b[43m        \u001b[49m\u001b[43mencoding\u001b[49m\u001b[38;5;241;43m=\u001b[39;49m\u001b[43mkwds\u001b[49m\u001b[38;5;241;43m.\u001b[39;49m\u001b[43mget\u001b[49m\u001b[43m(\u001b[49m\u001b[38;5;124;43m\"\u001b[39;49m\u001b[38;5;124;43mencoding\u001b[39;49m\u001b[38;5;124;43m\"\u001b[39;49m\u001b[43m,\u001b[49m\u001b[43m \u001b[49m\u001b[38;5;28;43;01mNone\u001b[39;49;00m\u001b[43m)\u001b[49m\u001b[43m,\u001b[49m\n\u001b[1;32m   1366\u001b[0m \u001b[43m        \u001b[49m\u001b[43mcompression\u001b[49m\u001b[38;5;241;43m=\u001b[39;49m\u001b[43mkwds\u001b[49m\u001b[38;5;241;43m.\u001b[39;49m\u001b[43mget\u001b[49m\u001b[43m(\u001b[49m\u001b[38;5;124;43m\"\u001b[39;49m\u001b[38;5;124;43mcompression\u001b[39;49m\u001b[38;5;124;43m\"\u001b[39;49m\u001b[43m,\u001b[49m\u001b[43m \u001b[49m\u001b[38;5;28;43;01mNone\u001b[39;49;00m\u001b[43m)\u001b[49m\u001b[43m,\u001b[49m\n\u001b[1;32m   1367\u001b[0m \u001b[43m        \u001b[49m\u001b[43mmemory_map\u001b[49m\u001b[38;5;241;43m=\u001b[39;49m\u001b[43mkwds\u001b[49m\u001b[38;5;241;43m.\u001b[39;49m\u001b[43mget\u001b[49m\u001b[43m(\u001b[49m\u001b[38;5;124;43m\"\u001b[39;49m\u001b[38;5;124;43mmemory_map\u001b[39;49m\u001b[38;5;124;43m\"\u001b[39;49m\u001b[43m,\u001b[49m\u001b[43m \u001b[49m\u001b[38;5;28;43;01mFalse\u001b[39;49;00m\u001b[43m)\u001b[49m\u001b[43m,\u001b[49m\n\u001b[1;32m   1368\u001b[0m \u001b[43m        \u001b[49m\u001b[43mstorage_options\u001b[49m\u001b[38;5;241;43m=\u001b[39;49m\u001b[43mkwds\u001b[49m\u001b[38;5;241;43m.\u001b[39;49m\u001b[43mget\u001b[49m\u001b[43m(\u001b[49m\u001b[38;5;124;43m\"\u001b[39;49m\u001b[38;5;124;43mstorage_options\u001b[39;49m\u001b[38;5;124;43m\"\u001b[39;49m\u001b[43m,\u001b[49m\u001b[43m \u001b[49m\u001b[38;5;28;43;01mNone\u001b[39;49;00m\u001b[43m)\u001b[49m\u001b[43m,\u001b[49m\n\u001b[1;32m   1369\u001b[0m \u001b[43m    \u001b[49m\u001b[43m)\u001b[49m\n",
      "File \u001b[0;32m/usr/local/linux/anaconda3.8/lib/python3.8/site-packages/pandas/io/common.py:642\u001b[0m, in \u001b[0;36mget_handle\u001b[0;34m(path_or_buf, mode, encoding, compression, memory_map, is_text, errors, storage_options)\u001b[0m\n\u001b[1;32m    640\u001b[0m         errors \u001b[38;5;241m=\u001b[39m \u001b[38;5;124m\"\u001b[39m\u001b[38;5;124mreplace\u001b[39m\u001b[38;5;124m\"\u001b[39m\n\u001b[1;32m    641\u001b[0m     \u001b[38;5;66;03m# Encoding\u001b[39;00m\n\u001b[0;32m--> 642\u001b[0m     handle \u001b[38;5;241m=\u001b[39m \u001b[38;5;28;43mopen\u001b[39;49m\u001b[43m(\u001b[49m\n\u001b[1;32m    643\u001b[0m \u001b[43m        \u001b[49m\u001b[43mhandle\u001b[49m\u001b[43m,\u001b[49m\n\u001b[1;32m    644\u001b[0m \u001b[43m        \u001b[49m\u001b[43mioargs\u001b[49m\u001b[38;5;241;43m.\u001b[39;49m\u001b[43mmode\u001b[49m\u001b[43m,\u001b[49m\n\u001b[1;32m    645\u001b[0m \u001b[43m        \u001b[49m\u001b[43mencoding\u001b[49m\u001b[38;5;241;43m=\u001b[39;49m\u001b[43mioargs\u001b[49m\u001b[38;5;241;43m.\u001b[39;49m\u001b[43mencoding\u001b[49m\u001b[43m,\u001b[49m\n\u001b[1;32m    646\u001b[0m \u001b[43m        \u001b[49m\u001b[43merrors\u001b[49m\u001b[38;5;241;43m=\u001b[39;49m\u001b[43merrors\u001b[49m\u001b[43m,\u001b[49m\n\u001b[1;32m    647\u001b[0m \u001b[43m        \u001b[49m\u001b[43mnewline\u001b[49m\u001b[38;5;241;43m=\u001b[39;49m\u001b[38;5;124;43m\"\u001b[39;49m\u001b[38;5;124;43m\"\u001b[39;49m\u001b[43m,\u001b[49m\n\u001b[1;32m    648\u001b[0m \u001b[43m    \u001b[49m\u001b[43m)\u001b[49m\n\u001b[1;32m    649\u001b[0m \u001b[38;5;28;01melse\u001b[39;00m:\n\u001b[1;32m    650\u001b[0m     \u001b[38;5;66;03m# Binary mode\u001b[39;00m\n\u001b[1;32m    651\u001b[0m     handle \u001b[38;5;241m=\u001b[39m \u001b[38;5;28mopen\u001b[39m(handle, ioargs\u001b[38;5;241m.\u001b[39mmode)\n",
      "\u001b[0;31mFileNotFoundError\u001b[0m: [Errno 2] No such file or directory: '/accounts/grad/khern045/NeuroimagingCapstone/data/adni1-data/ADNI1_Baseline_3T.csv'"
     ]
    }
   ],
   "source": [
    "df = pd.read_csv(baseline_path, parse_dates=['Acq Date'])\n",
    "df.head()"
   ]
  },
  {
   "cell_type": "code",
   "execution_count": null,
   "metadata": {
    "colab": {
     "base_uri": "https://localhost:8080/"
    },
    "id": "cDWX4YkrjMvo",
    "outputId": "5114464e-9bc6-45a5-ae71-f80af89e039c"
   },
   "outputs": [
    {
     "name": "stdout",
     "output_type": "stream",
     "text": [
      "<class 'pandas.core.frame.DataFrame'>\n",
      "RangeIndex: 199 entries, 0 to 198\n",
      "Data columns (total 12 columns):\n",
      " #   Column         Non-Null Count  Dtype         \n",
      "---  ------         --------------  -----         \n",
      " 0   Image Data ID  199 non-null    object        \n",
      " 1   Subject        199 non-null    object        \n",
      " 2   Group          199 non-null    object        \n",
      " 3   Sex            199 non-null    object        \n",
      " 4   Age            199 non-null    int64         \n",
      " 5   Visit          199 non-null    object        \n",
      " 6   Modality       199 non-null    object        \n",
      " 7   Description    199 non-null    object        \n",
      " 8   Type           199 non-null    object        \n",
      " 9   Acq Date       199 non-null    datetime64[ns]\n",
      " 10  Format         199 non-null    object        \n",
      " 11  Downloaded     199 non-null    object        \n",
      "dtypes: datetime64[ns](1), int64(1), object(10)\n",
      "memory usage: 18.8+ KB\n"
     ]
    }
   ],
   "source": [
    "df.info()"
   ]
  },
  {
   "cell_type": "markdown",
   "metadata": {
    "id": "ou18PWkD9Zy1"
   },
   "source": [
    "Here we can see that there are no null values. Most are of type object. We can also see that there are unnecessary variables like Format, Downloaded, Modality, Visit. We can plan to remove those later"
   ]
  },
  {
   "cell_type": "markdown",
   "metadata": {
    "id": "4iZ63j4uSmE-"
   },
   "source": [
    "#### Drop unused columns\n",
    "#### Split up date into year, month, day columns"
   ]
  },
  {
   "cell_type": "code",
   "execution_count": null,
   "metadata": {
    "colab": {
     "base_uri": "https://localhost:8080/",
     "height": 206
    },
    "id": "q4GqWR2sSEsa",
    "outputId": "61865139-6408-4b02-d7cc-6e55dc2710b2"
   },
   "outputs": [
    {
     "data": {
      "text/html": [
       "\n",
       "  <div id=\"df-5c5d78f9-c7bf-4015-a859-b4a9328a388f\">\n",
       "    <div class=\"colab-df-container\">\n",
       "      <div>\n",
       "<style scoped>\n",
       "    .dataframe tbody tr th:only-of-type {\n",
       "        vertical-align: middle;\n",
       "    }\n",
       "\n",
       "    .dataframe tbody tr th {\n",
       "        vertical-align: top;\n",
       "    }\n",
       "\n",
       "    .dataframe thead th {\n",
       "        text-align: right;\n",
       "    }\n",
       "</style>\n",
       "<table border=\"1\" class=\"dataframe\">\n",
       "  <thead>\n",
       "    <tr style=\"text-align: right;\">\n",
       "      <th></th>\n",
       "      <th>Image Data ID</th>\n",
       "      <th>Subject</th>\n",
       "      <th>Group</th>\n",
       "      <th>Sex</th>\n",
       "      <th>Age</th>\n",
       "      <th>Description</th>\n",
       "      <th>Acq_year</th>\n",
       "      <th>Acq_month</th>\n",
       "      <th>Acq_day</th>\n",
       "    </tr>\n",
       "  </thead>\n",
       "  <tbody>\n",
       "    <tr>\n",
       "      <th>0</th>\n",
       "      <td>I122678</td>\n",
       "      <td>031_S_0568</td>\n",
       "      <td>MCI</td>\n",
       "      <td>F</td>\n",
       "      <td>80</td>\n",
       "      <td>MPR; GradWarp; N3; Scaled</td>\n",
       "      <td>2006</td>\n",
       "      <td>6</td>\n",
       "      <td>9</td>\n",
       "    </tr>\n",
       "    <tr>\n",
       "      <th>1</th>\n",
       "      <td>I118854</td>\n",
       "      <td>023_S_0061</td>\n",
       "      <td>CN</td>\n",
       "      <td>F</td>\n",
       "      <td>77</td>\n",
       "      <td>MPR; GradWarp; B1 Correction; N3; Scaled_2</td>\n",
       "      <td>2005</td>\n",
       "      <td>12</td>\n",
       "      <td>20</td>\n",
       "    </tr>\n",
       "    <tr>\n",
       "      <th>2</th>\n",
       "      <td>I119018</td>\n",
       "      <td>023_S_0331</td>\n",
       "      <td>MCI</td>\n",
       "      <td>F</td>\n",
       "      <td>65</td>\n",
       "      <td>MPR; GradWarp; B1 Correction; N3; Scaled_2</td>\n",
       "      <td>2006</td>\n",
       "      <td>4</td>\n",
       "      <td>12</td>\n",
       "    </tr>\n",
       "    <tr>\n",
       "      <th>3</th>\n",
       "      <td>I118920</td>\n",
       "      <td>023_S_1190</td>\n",
       "      <td>CN</td>\n",
       "      <td>F</td>\n",
       "      <td>77</td>\n",
       "      <td>MPR; GradWarp; B1 Correction; N3; Scaled_2</td>\n",
       "      <td>2007</td>\n",
       "      <td>1</td>\n",
       "      <td>17</td>\n",
       "    </tr>\n",
       "    <tr>\n",
       "      <th>4</th>\n",
       "      <td>I118862</td>\n",
       "      <td>023_S_0078</td>\n",
       "      <td>MCI</td>\n",
       "      <td>F</td>\n",
       "      <td>76</td>\n",
       "      <td>MPR; GradWarp; B1 Correction; N3; Scaled_2</td>\n",
       "      <td>2006</td>\n",
       "      <td>1</td>\n",
       "      <td>12</td>\n",
       "    </tr>\n",
       "  </tbody>\n",
       "</table>\n",
       "</div>\n",
       "      <button class=\"colab-df-convert\" onclick=\"convertToInteractive('df-5c5d78f9-c7bf-4015-a859-b4a9328a388f')\"\n",
       "              title=\"Convert this dataframe to an interactive table.\"\n",
       "              style=\"display:none;\">\n",
       "        \n",
       "  <svg xmlns=\"http://www.w3.org/2000/svg\" height=\"24px\"viewBox=\"0 0 24 24\"\n",
       "       width=\"24px\">\n",
       "    <path d=\"M0 0h24v24H0V0z\" fill=\"none\"/>\n",
       "    <path d=\"M18.56 5.44l.94 2.06.94-2.06 2.06-.94-2.06-.94-.94-2.06-.94 2.06-2.06.94zm-11 1L8.5 8.5l.94-2.06 2.06-.94-2.06-.94L8.5 2.5l-.94 2.06-2.06.94zm10 10l.94 2.06.94-2.06 2.06-.94-2.06-.94-.94-2.06-.94 2.06-2.06.94z\"/><path d=\"M17.41 7.96l-1.37-1.37c-.4-.4-.92-.59-1.43-.59-.52 0-1.04.2-1.43.59L10.3 9.45l-7.72 7.72c-.78.78-.78 2.05 0 2.83L4 21.41c.39.39.9.59 1.41.59.51 0 1.02-.2 1.41-.59l7.78-7.78 2.81-2.81c.8-.78.8-2.07 0-2.86zM5.41 20L4 18.59l7.72-7.72 1.47 1.35L5.41 20z\"/>\n",
       "  </svg>\n",
       "      </button>\n",
       "      \n",
       "  <style>\n",
       "    .colab-df-container {\n",
       "      display:flex;\n",
       "      flex-wrap:wrap;\n",
       "      gap: 12px;\n",
       "    }\n",
       "\n",
       "    .colab-df-convert {\n",
       "      background-color: #E8F0FE;\n",
       "      border: none;\n",
       "      border-radius: 50%;\n",
       "      cursor: pointer;\n",
       "      display: none;\n",
       "      fill: #1967D2;\n",
       "      height: 32px;\n",
       "      padding: 0 0 0 0;\n",
       "      width: 32px;\n",
       "    }\n",
       "\n",
       "    .colab-df-convert:hover {\n",
       "      background-color: #E2EBFA;\n",
       "      box-shadow: 0px 1px 2px rgba(60, 64, 67, 0.3), 0px 1px 3px 1px rgba(60, 64, 67, 0.15);\n",
       "      fill: #174EA6;\n",
       "    }\n",
       "\n",
       "    [theme=dark] .colab-df-convert {\n",
       "      background-color: #3B4455;\n",
       "      fill: #D2E3FC;\n",
       "    }\n",
       "\n",
       "    [theme=dark] .colab-df-convert:hover {\n",
       "      background-color: #434B5C;\n",
       "      box-shadow: 0px 1px 3px 1px rgba(0, 0, 0, 0.15);\n",
       "      filter: drop-shadow(0px 1px 2px rgba(0, 0, 0, 0.3));\n",
       "      fill: #FFFFFF;\n",
       "    }\n",
       "  </style>\n",
       "\n",
       "      <script>\n",
       "        const buttonEl =\n",
       "          document.querySelector('#df-5c5d78f9-c7bf-4015-a859-b4a9328a388f button.colab-df-convert');\n",
       "        buttonEl.style.display =\n",
       "          google.colab.kernel.accessAllowed ? 'block' : 'none';\n",
       "\n",
       "        async function convertToInteractive(key) {\n",
       "          const element = document.querySelector('#df-5c5d78f9-c7bf-4015-a859-b4a9328a388f');\n",
       "          const dataTable =\n",
       "            await google.colab.kernel.invokeFunction('convertToInteractive',\n",
       "                                                     [key], {});\n",
       "          if (!dataTable) return;\n",
       "\n",
       "          const docLinkHtml = 'Like what you see? Visit the ' +\n",
       "            '<a target=\"_blank\" href=https://colab.research.google.com/notebooks/data_table.ipynb>data table notebook</a>'\n",
       "            + ' to learn more about interactive tables.';\n",
       "          element.innerHTML = '';\n",
       "          dataTable['output_type'] = 'display_data';\n",
       "          await google.colab.output.renderOutput(dataTable, element);\n",
       "          const docLink = document.createElement('div');\n",
       "          docLink.innerHTML = docLinkHtml;\n",
       "          element.appendChild(docLink);\n",
       "        }\n",
       "      </script>\n",
       "    </div>\n",
       "  </div>\n",
       "  "
      ],
      "text/plain": [
       "  Image Data ID     Subject Group Sex  Age  \\\n",
       "0       I122678  031_S_0568   MCI   F   80   \n",
       "1       I118854  023_S_0061    CN   F   77   \n",
       "2       I119018  023_S_0331   MCI   F   65   \n",
       "3       I118920  023_S_1190    CN   F   77   \n",
       "4       I118862  023_S_0078   MCI   F   76   \n",
       "\n",
       "                                  Description  Acq_year  Acq_month  Acq_day  \n",
       "0                   MPR; GradWarp; N3; Scaled      2006          6        9  \n",
       "1  MPR; GradWarp; B1 Correction; N3; Scaled_2      2005         12       20  \n",
       "2  MPR; GradWarp; B1 Correction; N3; Scaled_2      2006          4       12  \n",
       "3  MPR; GradWarp; B1 Correction; N3; Scaled_2      2007          1       17  \n",
       "4  MPR; GradWarp; B1 Correction; N3; Scaled_2      2006          1       12  "
      ]
     },
     "execution_count": 6,
     "metadata": {},
     "output_type": "execute_result"
    }
   ],
   "source": [
    "df = df.drop(['Visit', 'Modality', 'Type', 'Format', 'Downloaded'], axis=1, errors = 'ignore')\n",
    "\n",
    "df['Acq_year'] = pd.DatetimeIndex(df['Acq Date']).year\n",
    "df['Acq_month'] = pd.DatetimeIndex(df['Acq Date']).month\n",
    "df['Acq_day'] = pd.DatetimeIndex(df['Acq Date']).day\n",
    "df = df.drop(['Acq Date'], axis=1, errors = 'ignore')\n",
    "df.head()"
   ]
  },
  {
   "cell_type": "markdown",
   "metadata": {
    "id": "SpTlWU3N-d7Q"
   },
   "source": [
    "Change the names of some columsn to remove spaces and make for easier coding"
   ]
  },
  {
   "cell_type": "code",
   "execution_count": null,
   "metadata": {
    "colab": {
     "base_uri": "https://localhost:8080/",
     "height": 206
    },
    "id": "cIhi0uCK-nCb",
    "outputId": "1586d1bd-98db-4c74-a12d-d72c4d5213ad"
   },
   "outputs": [
    {
     "data": {
      "text/html": [
       "\n",
       "  <div id=\"df-ad26b26b-da8e-47b3-bba0-7f1d4fa763dd\">\n",
       "    <div class=\"colab-df-container\">\n",
       "      <div>\n",
       "<style scoped>\n",
       "    .dataframe tbody tr th:only-of-type {\n",
       "        vertical-align: middle;\n",
       "    }\n",
       "\n",
       "    .dataframe tbody tr th {\n",
       "        vertical-align: top;\n",
       "    }\n",
       "\n",
       "    .dataframe thead th {\n",
       "        text-align: right;\n",
       "    }\n",
       "</style>\n",
       "<table border=\"1\" class=\"dataframe\">\n",
       "  <thead>\n",
       "    <tr style=\"text-align: right;\">\n",
       "      <th></th>\n",
       "      <th>Img_ID</th>\n",
       "      <th>Subject</th>\n",
       "      <th>Group</th>\n",
       "      <th>Sex</th>\n",
       "      <th>Age</th>\n",
       "      <th>Desc</th>\n",
       "      <th>Acq_year</th>\n",
       "      <th>Acq_month</th>\n",
       "      <th>Acq_day</th>\n",
       "    </tr>\n",
       "  </thead>\n",
       "  <tbody>\n",
       "    <tr>\n",
       "      <th>0</th>\n",
       "      <td>I122678</td>\n",
       "      <td>031_S_0568</td>\n",
       "      <td>MCI</td>\n",
       "      <td>F</td>\n",
       "      <td>80</td>\n",
       "      <td>MPR; GradWarp; N3; Scaled</td>\n",
       "      <td>2006</td>\n",
       "      <td>6</td>\n",
       "      <td>9</td>\n",
       "    </tr>\n",
       "    <tr>\n",
       "      <th>1</th>\n",
       "      <td>I118854</td>\n",
       "      <td>023_S_0061</td>\n",
       "      <td>CN</td>\n",
       "      <td>F</td>\n",
       "      <td>77</td>\n",
       "      <td>MPR; GradWarp; B1 Correction; N3; Scaled_2</td>\n",
       "      <td>2005</td>\n",
       "      <td>12</td>\n",
       "      <td>20</td>\n",
       "    </tr>\n",
       "    <tr>\n",
       "      <th>2</th>\n",
       "      <td>I119018</td>\n",
       "      <td>023_S_0331</td>\n",
       "      <td>MCI</td>\n",
       "      <td>F</td>\n",
       "      <td>65</td>\n",
       "      <td>MPR; GradWarp; B1 Correction; N3; Scaled_2</td>\n",
       "      <td>2006</td>\n",
       "      <td>4</td>\n",
       "      <td>12</td>\n",
       "    </tr>\n",
       "    <tr>\n",
       "      <th>3</th>\n",
       "      <td>I118920</td>\n",
       "      <td>023_S_1190</td>\n",
       "      <td>CN</td>\n",
       "      <td>F</td>\n",
       "      <td>77</td>\n",
       "      <td>MPR; GradWarp; B1 Correction; N3; Scaled_2</td>\n",
       "      <td>2007</td>\n",
       "      <td>1</td>\n",
       "      <td>17</td>\n",
       "    </tr>\n",
       "    <tr>\n",
       "      <th>4</th>\n",
       "      <td>I118862</td>\n",
       "      <td>023_S_0078</td>\n",
       "      <td>MCI</td>\n",
       "      <td>F</td>\n",
       "      <td>76</td>\n",
       "      <td>MPR; GradWarp; B1 Correction; N3; Scaled_2</td>\n",
       "      <td>2006</td>\n",
       "      <td>1</td>\n",
       "      <td>12</td>\n",
       "    </tr>\n",
       "  </tbody>\n",
       "</table>\n",
       "</div>\n",
       "      <button class=\"colab-df-convert\" onclick=\"convertToInteractive('df-ad26b26b-da8e-47b3-bba0-7f1d4fa763dd')\"\n",
       "              title=\"Convert this dataframe to an interactive table.\"\n",
       "              style=\"display:none;\">\n",
       "        \n",
       "  <svg xmlns=\"http://www.w3.org/2000/svg\" height=\"24px\"viewBox=\"0 0 24 24\"\n",
       "       width=\"24px\">\n",
       "    <path d=\"M0 0h24v24H0V0z\" fill=\"none\"/>\n",
       "    <path d=\"M18.56 5.44l.94 2.06.94-2.06 2.06-.94-2.06-.94-.94-2.06-.94 2.06-2.06.94zm-11 1L8.5 8.5l.94-2.06 2.06-.94-2.06-.94L8.5 2.5l-.94 2.06-2.06.94zm10 10l.94 2.06.94-2.06 2.06-.94-2.06-.94-.94-2.06-.94 2.06-2.06.94z\"/><path d=\"M17.41 7.96l-1.37-1.37c-.4-.4-.92-.59-1.43-.59-.52 0-1.04.2-1.43.59L10.3 9.45l-7.72 7.72c-.78.78-.78 2.05 0 2.83L4 21.41c.39.39.9.59 1.41.59.51 0 1.02-.2 1.41-.59l7.78-7.78 2.81-2.81c.8-.78.8-2.07 0-2.86zM5.41 20L4 18.59l7.72-7.72 1.47 1.35L5.41 20z\"/>\n",
       "  </svg>\n",
       "      </button>\n",
       "      \n",
       "  <style>\n",
       "    .colab-df-container {\n",
       "      display:flex;\n",
       "      flex-wrap:wrap;\n",
       "      gap: 12px;\n",
       "    }\n",
       "\n",
       "    .colab-df-convert {\n",
       "      background-color: #E8F0FE;\n",
       "      border: none;\n",
       "      border-radius: 50%;\n",
       "      cursor: pointer;\n",
       "      display: none;\n",
       "      fill: #1967D2;\n",
       "      height: 32px;\n",
       "      padding: 0 0 0 0;\n",
       "      width: 32px;\n",
       "    }\n",
       "\n",
       "    .colab-df-convert:hover {\n",
       "      background-color: #E2EBFA;\n",
       "      box-shadow: 0px 1px 2px rgba(60, 64, 67, 0.3), 0px 1px 3px 1px rgba(60, 64, 67, 0.15);\n",
       "      fill: #174EA6;\n",
       "    }\n",
       "\n",
       "    [theme=dark] .colab-df-convert {\n",
       "      background-color: #3B4455;\n",
       "      fill: #D2E3FC;\n",
       "    }\n",
       "\n",
       "    [theme=dark] .colab-df-convert:hover {\n",
       "      background-color: #434B5C;\n",
       "      box-shadow: 0px 1px 3px 1px rgba(0, 0, 0, 0.15);\n",
       "      filter: drop-shadow(0px 1px 2px rgba(0, 0, 0, 0.3));\n",
       "      fill: #FFFFFF;\n",
       "    }\n",
       "  </style>\n",
       "\n",
       "      <script>\n",
       "        const buttonEl =\n",
       "          document.querySelector('#df-ad26b26b-da8e-47b3-bba0-7f1d4fa763dd button.colab-df-convert');\n",
       "        buttonEl.style.display =\n",
       "          google.colab.kernel.accessAllowed ? 'block' : 'none';\n",
       "\n",
       "        async function convertToInteractive(key) {\n",
       "          const element = document.querySelector('#df-ad26b26b-da8e-47b3-bba0-7f1d4fa763dd');\n",
       "          const dataTable =\n",
       "            await google.colab.kernel.invokeFunction('convertToInteractive',\n",
       "                                                     [key], {});\n",
       "          if (!dataTable) return;\n",
       "\n",
       "          const docLinkHtml = 'Like what you see? Visit the ' +\n",
       "            '<a target=\"_blank\" href=https://colab.research.google.com/notebooks/data_table.ipynb>data table notebook</a>'\n",
       "            + ' to learn more about interactive tables.';\n",
       "          element.innerHTML = '';\n",
       "          dataTable['output_type'] = 'display_data';\n",
       "          await google.colab.output.renderOutput(dataTable, element);\n",
       "          const docLink = document.createElement('div');\n",
       "          docLink.innerHTML = docLinkHtml;\n",
       "          element.appendChild(docLink);\n",
       "        }\n",
       "      </script>\n",
       "    </div>\n",
       "  </div>\n",
       "  "
      ],
      "text/plain": [
       "    Img_ID     Subject Group Sex  Age  \\\n",
       "0  I122678  031_S_0568   MCI   F   80   \n",
       "1  I118854  023_S_0061    CN   F   77   \n",
       "2  I119018  023_S_0331   MCI   F   65   \n",
       "3  I118920  023_S_1190    CN   F   77   \n",
       "4  I118862  023_S_0078   MCI   F   76   \n",
       "\n",
       "                                         Desc  Acq_year  Acq_month  Acq_day  \n",
       "0                   MPR; GradWarp; N3; Scaled      2006          6        9  \n",
       "1  MPR; GradWarp; B1 Correction; N3; Scaled_2      2005         12       20  \n",
       "2  MPR; GradWarp; B1 Correction; N3; Scaled_2      2006          4       12  \n",
       "3  MPR; GradWarp; B1 Correction; N3; Scaled_2      2007          1       17  \n",
       "4  MPR; GradWarp; B1 Correction; N3; Scaled_2      2006          1       12  "
      ]
     },
     "execution_count": 7,
     "metadata": {},
     "output_type": "execute_result"
    }
   ],
   "source": [
    "df = df.rename({'Image Data ID': 'Img_ID', 'Description':\"Desc\"}, axis=1) \n",
    "df.head()"
   ]
  },
  {
   "cell_type": "markdown",
   "metadata": {
    "id": "KZqwvOjD_cgE"
   },
   "source": [
    "#### Split Desc column into binary"
   ]
  },
  {
   "cell_type": "code",
   "execution_count": null,
   "metadata": {
    "colab": {
     "base_uri": "https://localhost:8080/"
    },
    "id": "4nfH4s0P_aBN",
    "outputId": "bbf84b77-9bf6-4aa7-b4f6-988b87156846"
   },
   "outputs": [
    {
     "data": {
      "text/plain": [
       "array(['MPR; GradWarp; N3; Scaled',\n",
       "       'MPR; GradWarp; B1 Correction; N3; Scaled_2',\n",
       "       'MPR; GradWarp; B1 Correction; N3; Scaled', 'MPR; ; N3; Scaled_2',\n",
       "       'MPR; ; N3; Scaled',\n",
       "       'MPR-R; GradWarp; B1 Correction; N3; Scaled_2',\n",
       "       'MPR-R; GradWarp; B1 Correction; N3; Scaled',\n",
       "       'MPR-R; ; N3; Scaled_2', 'MPR-R; ; N3; Scaled'], dtype=object)"
      ]
     },
     "execution_count": 8,
     "metadata": {},
     "output_type": "execute_result"
    }
   ],
   "source": [
    "df.Desc.unique()"
   ]
  },
  {
   "cell_type": "code",
   "execution_count": null,
   "metadata": {
    "colab": {
     "base_uri": "https://localhost:8080/",
     "height": 261
    },
    "id": "tDXDUh44Wltm",
    "outputId": "f7e9b19d-a68e-4ea5-f753-a4b8d28f3104"
   },
   "outputs": [
    {
     "name": "stderr",
     "output_type": "stream",
     "text": [
      "<ipython-input-9-5fe0f95744f9>:2: FutureWarning: Using the level keyword in DataFrame and Series aggregations is deprecated and will be removed in a future version. Use groupby instead. df.sum(level=1) should use df.groupby(level=1).sum().\n",
      "  desc_df = pd.get_dummies(df.Desc.replace({'(Scaled_2)':'Scaled'}, regex=True).str.split(\"; \").apply(pd.Series).stack()).sum(level=0)\n"
     ]
    },
    {
     "data": {
      "text/html": [
       "\n",
       "  <div id=\"df-652a9cec-32e3-40e9-a4c9-c34c81112d7c\">\n",
       "    <div class=\"colab-df-container\">\n",
       "      <div>\n",
       "<style scoped>\n",
       "    .dataframe tbody tr th:only-of-type {\n",
       "        vertical-align: middle;\n",
       "    }\n",
       "\n",
       "    .dataframe tbody tr th {\n",
       "        vertical-align: top;\n",
       "    }\n",
       "\n",
       "    .dataframe thead th {\n",
       "        text-align: right;\n",
       "    }\n",
       "</style>\n",
       "<table border=\"1\" class=\"dataframe\">\n",
       "  <thead>\n",
       "    <tr style=\"text-align: right;\">\n",
       "      <th></th>\n",
       "      <th>Img_ID</th>\n",
       "      <th>Subject</th>\n",
       "      <th>Group</th>\n",
       "      <th>Sex</th>\n",
       "      <th>Age</th>\n",
       "      <th>Acq_year</th>\n",
       "      <th>Acq_month</th>\n",
       "      <th>Acq_day</th>\n",
       "      <th>B1 Correction</th>\n",
       "      <th>GradWarp</th>\n",
       "      <th>MPR</th>\n",
       "      <th>MPR-R</th>\n",
       "      <th>N3</th>\n",
       "      <th>Scaled</th>\n",
       "    </tr>\n",
       "  </thead>\n",
       "  <tbody>\n",
       "    <tr>\n",
       "      <th>0</th>\n",
       "      <td>I122678</td>\n",
       "      <td>031_S_0568</td>\n",
       "      <td>MCI</td>\n",
       "      <td>F</td>\n",
       "      <td>80</td>\n",
       "      <td>2006</td>\n",
       "      <td>6</td>\n",
       "      <td>9</td>\n",
       "      <td>0</td>\n",
       "      <td>1</td>\n",
       "      <td>1</td>\n",
       "      <td>0</td>\n",
       "      <td>1</td>\n",
       "      <td>1</td>\n",
       "    </tr>\n",
       "    <tr>\n",
       "      <th>1</th>\n",
       "      <td>I118854</td>\n",
       "      <td>023_S_0061</td>\n",
       "      <td>CN</td>\n",
       "      <td>F</td>\n",
       "      <td>77</td>\n",
       "      <td>2005</td>\n",
       "      <td>12</td>\n",
       "      <td>20</td>\n",
       "      <td>1</td>\n",
       "      <td>1</td>\n",
       "      <td>1</td>\n",
       "      <td>0</td>\n",
       "      <td>1</td>\n",
       "      <td>1</td>\n",
       "    </tr>\n",
       "    <tr>\n",
       "      <th>2</th>\n",
       "      <td>I119018</td>\n",
       "      <td>023_S_0331</td>\n",
       "      <td>MCI</td>\n",
       "      <td>F</td>\n",
       "      <td>65</td>\n",
       "      <td>2006</td>\n",
       "      <td>4</td>\n",
       "      <td>12</td>\n",
       "      <td>1</td>\n",
       "      <td>1</td>\n",
       "      <td>1</td>\n",
       "      <td>0</td>\n",
       "      <td>1</td>\n",
       "      <td>1</td>\n",
       "    </tr>\n",
       "    <tr>\n",
       "      <th>3</th>\n",
       "      <td>I118920</td>\n",
       "      <td>023_S_1190</td>\n",
       "      <td>CN</td>\n",
       "      <td>F</td>\n",
       "      <td>77</td>\n",
       "      <td>2007</td>\n",
       "      <td>1</td>\n",
       "      <td>17</td>\n",
       "      <td>1</td>\n",
       "      <td>1</td>\n",
       "      <td>1</td>\n",
       "      <td>0</td>\n",
       "      <td>1</td>\n",
       "      <td>1</td>\n",
       "    </tr>\n",
       "    <tr>\n",
       "      <th>4</th>\n",
       "      <td>I118862</td>\n",
       "      <td>023_S_0078</td>\n",
       "      <td>MCI</td>\n",
       "      <td>F</td>\n",
       "      <td>76</td>\n",
       "      <td>2006</td>\n",
       "      <td>1</td>\n",
       "      <td>12</td>\n",
       "      <td>1</td>\n",
       "      <td>1</td>\n",
       "      <td>1</td>\n",
       "      <td>0</td>\n",
       "      <td>1</td>\n",
       "      <td>1</td>\n",
       "    </tr>\n",
       "  </tbody>\n",
       "</table>\n",
       "</div>\n",
       "      <button class=\"colab-df-convert\" onclick=\"convertToInteractive('df-652a9cec-32e3-40e9-a4c9-c34c81112d7c')\"\n",
       "              title=\"Convert this dataframe to an interactive table.\"\n",
       "              style=\"display:none;\">\n",
       "        \n",
       "  <svg xmlns=\"http://www.w3.org/2000/svg\" height=\"24px\"viewBox=\"0 0 24 24\"\n",
       "       width=\"24px\">\n",
       "    <path d=\"M0 0h24v24H0V0z\" fill=\"none\"/>\n",
       "    <path d=\"M18.56 5.44l.94 2.06.94-2.06 2.06-.94-2.06-.94-.94-2.06-.94 2.06-2.06.94zm-11 1L8.5 8.5l.94-2.06 2.06-.94-2.06-.94L8.5 2.5l-.94 2.06-2.06.94zm10 10l.94 2.06.94-2.06 2.06-.94-2.06-.94-.94-2.06-.94 2.06-2.06.94z\"/><path d=\"M17.41 7.96l-1.37-1.37c-.4-.4-.92-.59-1.43-.59-.52 0-1.04.2-1.43.59L10.3 9.45l-7.72 7.72c-.78.78-.78 2.05 0 2.83L4 21.41c.39.39.9.59 1.41.59.51 0 1.02-.2 1.41-.59l7.78-7.78 2.81-2.81c.8-.78.8-2.07 0-2.86zM5.41 20L4 18.59l7.72-7.72 1.47 1.35L5.41 20z\"/>\n",
       "  </svg>\n",
       "      </button>\n",
       "      \n",
       "  <style>\n",
       "    .colab-df-container {\n",
       "      display:flex;\n",
       "      flex-wrap:wrap;\n",
       "      gap: 12px;\n",
       "    }\n",
       "\n",
       "    .colab-df-convert {\n",
       "      background-color: #E8F0FE;\n",
       "      border: none;\n",
       "      border-radius: 50%;\n",
       "      cursor: pointer;\n",
       "      display: none;\n",
       "      fill: #1967D2;\n",
       "      height: 32px;\n",
       "      padding: 0 0 0 0;\n",
       "      width: 32px;\n",
       "    }\n",
       "\n",
       "    .colab-df-convert:hover {\n",
       "      background-color: #E2EBFA;\n",
       "      box-shadow: 0px 1px 2px rgba(60, 64, 67, 0.3), 0px 1px 3px 1px rgba(60, 64, 67, 0.15);\n",
       "      fill: #174EA6;\n",
       "    }\n",
       "\n",
       "    [theme=dark] .colab-df-convert {\n",
       "      background-color: #3B4455;\n",
       "      fill: #D2E3FC;\n",
       "    }\n",
       "\n",
       "    [theme=dark] .colab-df-convert:hover {\n",
       "      background-color: #434B5C;\n",
       "      box-shadow: 0px 1px 3px 1px rgba(0, 0, 0, 0.15);\n",
       "      filter: drop-shadow(0px 1px 2px rgba(0, 0, 0, 0.3));\n",
       "      fill: #FFFFFF;\n",
       "    }\n",
       "  </style>\n",
       "\n",
       "      <script>\n",
       "        const buttonEl =\n",
       "          document.querySelector('#df-652a9cec-32e3-40e9-a4c9-c34c81112d7c button.colab-df-convert');\n",
       "        buttonEl.style.display =\n",
       "          google.colab.kernel.accessAllowed ? 'block' : 'none';\n",
       "\n",
       "        async function convertToInteractive(key) {\n",
       "          const element = document.querySelector('#df-652a9cec-32e3-40e9-a4c9-c34c81112d7c');\n",
       "          const dataTable =\n",
       "            await google.colab.kernel.invokeFunction('convertToInteractive',\n",
       "                                                     [key], {});\n",
       "          if (!dataTable) return;\n",
       "\n",
       "          const docLinkHtml = 'Like what you see? Visit the ' +\n",
       "            '<a target=\"_blank\" href=https://colab.research.google.com/notebooks/data_table.ipynb>data table notebook</a>'\n",
       "            + ' to learn more about interactive tables.';\n",
       "          element.innerHTML = '';\n",
       "          dataTable['output_type'] = 'display_data';\n",
       "          await google.colab.output.renderOutput(dataTable, element);\n",
       "          const docLink = document.createElement('div');\n",
       "          docLink.innerHTML = docLinkHtml;\n",
       "          element.appendChild(docLink);\n",
       "        }\n",
       "      </script>\n",
       "    </div>\n",
       "  </div>\n",
       "  "
      ],
      "text/plain": [
       "    Img_ID     Subject Group Sex  Age  Acq_year  Acq_month  Acq_day  \\\n",
       "0  I122678  031_S_0568   MCI   F   80      2006          6        9   \n",
       "1  I118854  023_S_0061    CN   F   77      2005         12       20   \n",
       "2  I119018  023_S_0331   MCI   F   65      2006          4       12   \n",
       "3  I118920  023_S_1190    CN   F   77      2007          1       17   \n",
       "4  I118862  023_S_0078   MCI   F   76      2006          1       12   \n",
       "\n",
       "   B1 Correction  GradWarp  MPR  MPR-R  N3  Scaled  \n",
       "0              0         1    1      0   1       1  \n",
       "1              1         1    1      0   1       1  \n",
       "2              1         1    1      0   1       1  \n",
       "3              1         1    1      0   1       1  \n",
       "4              1         1    1      0   1       1  "
      ]
     },
     "execution_count": 9,
     "metadata": {},
     "output_type": "execute_result"
    }
   ],
   "source": [
    "# https://stackoverflow.com/a/29036042/16800940\n",
    "desc_df = pd.get_dummies(df.Desc.replace({'(Scaled_2)':'Scaled'}, regex=True).str.split(\"; \").apply(pd.Series).stack()).sum(level=0)\n",
    "desc_df.rename({'B1 Correction':'B1'})\n",
    "\n",
    "dfc = pd.concat([df, desc_df.iloc[:, 1:]], axis=1).drop('Desc', axis=1)\n",
    "dfc.head()"
   ]
  },
  {
   "cell_type": "markdown",
   "metadata": {
    "id": "hCUvFjQsA_WX"
   },
   "source": [
    "MRI images from the ADNI dataset, we think, come partially preprocessed. \n",
    "\n",
    "ADNI Pipeline uses is a preprocessing pipeline used to perform a series of steps to convert the raw image into a preprocessed image. \n",
    "\n",
    "These steps can include N3/N4 bias correction, skull stripping, registration, intensity normalization, scaling and spatial normalization.\n",
    "\n",
    "Preprocessing Definitions:\n",
    "  > **N3**: Correct for intensity non-uniformity in the image, which can be caused by a variety of factors including differences in coil sensitivity, magnetic field inhomogeneities, and tissue properties.\n",
    "\n",
    "  > **N4**: Corrects for intensity non-uniformity in the MRI data caused by variations in the magnetic field and other factors\n",
    "\n",
    "  > **Gradwarp**: Corrects for intensity variations in the magnetic field of the scnaner, which can cause distortions in the image. These distortions can cause errors in subsequent image processing steps\n",
    "\n",
    "  > **Distortion correction**: Used to correct for spatial distortions in the image that are caused by factors such as gradient nonlinearities, susceptibility artifacts, and motion.\n",
    "\n",
    "  > **B1 Correction**: is a type of correction for radiofrequency (RF) inhomogeneity in MRI images. RF inhomogeneity occurs when the RF field is not perfectly uniform across the image.\n",
    "\n",
    "  > **Skull Stripping**: Removes non-brain tissue from the MRI images\n",
    "\n",
    "  > **Registration**: Aligns the MRI images to a standard space, such as the MNI (Montreal Neurological Institute) template\n",
    "\n",
    "  > **Spatial Normalizaiton**: Warps the images to fit the template space, correcting for differences in brain size and shape between individuals\n",
    "  \n",
    "  > **Intensity Normalization**: Rescales the intensity values of the images to a common range.\n",
    "\n",
    "  > **Scaled**: Not too sure what this is. On the documentation they have parameters scaled(1.00002, 1, 1.0003) or something similar.\n",
    "\n",
    "  > **Motion correction**: Motion correction is typically performed to correct for subject motion during the acquisition of the images. These artifacts can cause blurring or ghosting in the image, which can affect subsequent image processing steps.\n",
    "\n",
    "  > **Smoothing**: Spatial smoothing is performed to improve the signal-to-noise ratio of the images and to reduce noise and other unwanted variability.\n",
    "\n",
    "We think that they become preprocessed, because the images are not intensity normalized or skull stripped. \n",
    "\n",
    "We know for sure that they are N3 bias corrected, Gradwarped, scaled. I want to say that they're also registered. \n",
    "\n",
    "**MPR and MPR_R**:\n",
    "In ADNI preprocessing, MPR and MPR-R refer to two different acquisitions of the same imaging modality, specifically the magnetization-prepared rapid gradient echo (MPRAGE) sequence. MPR refers to the first acquisition of the MPRAGE sequence, while MPR-R refers to a repeat acquisition that is obtained immediately after the first acquisition.\n",
    "\n",
    "The purpose of acquiring two MPRAGE scans in quick succession is to improve the quality of the image by reducing the effects of noise, motion artifacts, and other sources of variability. The two scans are then averaged or combined in some way to produce a single high-quality image.\n"
   ]
  },
  {
   "cell_type": "markdown",
   "metadata": {
    "id": "MG7wPKBkTDf-"
   },
   "source": [
    "#### Check NA"
   ]
  },
  {
   "cell_type": "code",
   "execution_count": null,
   "metadata": {
    "colab": {
     "base_uri": "https://localhost:8080/",
     "height": 49
    },
    "id": "K5LYivVWTCs8",
    "outputId": "edfdc98c-4b93-4b50-9107-333e671f9670"
   },
   "outputs": [
    {
     "data": {
      "text/html": [
       "\n",
       "  <div id=\"df-640113f0-8efb-43ac-93ef-3f16a24a3559\">\n",
       "    <div class=\"colab-df-container\">\n",
       "      <div>\n",
       "<style scoped>\n",
       "    .dataframe tbody tr th:only-of-type {\n",
       "        vertical-align: middle;\n",
       "    }\n",
       "\n",
       "    .dataframe tbody tr th {\n",
       "        vertical-align: top;\n",
       "    }\n",
       "\n",
       "    .dataframe thead th {\n",
       "        text-align: right;\n",
       "    }\n",
       "</style>\n",
       "<table border=\"1\" class=\"dataframe\">\n",
       "  <thead>\n",
       "    <tr style=\"text-align: right;\">\n",
       "      <th></th>\n",
       "      <th>count</th>\n",
       "      <th>percent</th>\n",
       "    </tr>\n",
       "  </thead>\n",
       "  <tbody>\n",
       "  </tbody>\n",
       "</table>\n",
       "</div>\n",
       "      <button class=\"colab-df-convert\" onclick=\"convertToInteractive('df-640113f0-8efb-43ac-93ef-3f16a24a3559')\"\n",
       "              title=\"Convert this dataframe to an interactive table.\"\n",
       "              style=\"display:none;\">\n",
       "        \n",
       "  <svg xmlns=\"http://www.w3.org/2000/svg\" height=\"24px\"viewBox=\"0 0 24 24\"\n",
       "       width=\"24px\">\n",
       "    <path d=\"M0 0h24v24H0V0z\" fill=\"none\"/>\n",
       "    <path d=\"M18.56 5.44l.94 2.06.94-2.06 2.06-.94-2.06-.94-.94-2.06-.94 2.06-2.06.94zm-11 1L8.5 8.5l.94-2.06 2.06-.94-2.06-.94L8.5 2.5l-.94 2.06-2.06.94zm10 10l.94 2.06.94-2.06 2.06-.94-2.06-.94-.94-2.06-.94 2.06-2.06.94z\"/><path d=\"M17.41 7.96l-1.37-1.37c-.4-.4-.92-.59-1.43-.59-.52 0-1.04.2-1.43.59L10.3 9.45l-7.72 7.72c-.78.78-.78 2.05 0 2.83L4 21.41c.39.39.9.59 1.41.59.51 0 1.02-.2 1.41-.59l7.78-7.78 2.81-2.81c.8-.78.8-2.07 0-2.86zM5.41 20L4 18.59l7.72-7.72 1.47 1.35L5.41 20z\"/>\n",
       "  </svg>\n",
       "      </button>\n",
       "      \n",
       "  <style>\n",
       "    .colab-df-container {\n",
       "      display:flex;\n",
       "      flex-wrap:wrap;\n",
       "      gap: 12px;\n",
       "    }\n",
       "\n",
       "    .colab-df-convert {\n",
       "      background-color: #E8F0FE;\n",
       "      border: none;\n",
       "      border-radius: 50%;\n",
       "      cursor: pointer;\n",
       "      display: none;\n",
       "      fill: #1967D2;\n",
       "      height: 32px;\n",
       "      padding: 0 0 0 0;\n",
       "      width: 32px;\n",
       "    }\n",
       "\n",
       "    .colab-df-convert:hover {\n",
       "      background-color: #E2EBFA;\n",
       "      box-shadow: 0px 1px 2px rgba(60, 64, 67, 0.3), 0px 1px 3px 1px rgba(60, 64, 67, 0.15);\n",
       "      fill: #174EA6;\n",
       "    }\n",
       "\n",
       "    [theme=dark] .colab-df-convert {\n",
       "      background-color: #3B4455;\n",
       "      fill: #D2E3FC;\n",
       "    }\n",
       "\n",
       "    [theme=dark] .colab-df-convert:hover {\n",
       "      background-color: #434B5C;\n",
       "      box-shadow: 0px 1px 3px 1px rgba(0, 0, 0, 0.15);\n",
       "      filter: drop-shadow(0px 1px 2px rgba(0, 0, 0, 0.3));\n",
       "      fill: #FFFFFF;\n",
       "    }\n",
       "  </style>\n",
       "\n",
       "      <script>\n",
       "        const buttonEl =\n",
       "          document.querySelector('#df-640113f0-8efb-43ac-93ef-3f16a24a3559 button.colab-df-convert');\n",
       "        buttonEl.style.display =\n",
       "          google.colab.kernel.accessAllowed ? 'block' : 'none';\n",
       "\n",
       "        async function convertToInteractive(key) {\n",
       "          const element = document.querySelector('#df-640113f0-8efb-43ac-93ef-3f16a24a3559');\n",
       "          const dataTable =\n",
       "            await google.colab.kernel.invokeFunction('convertToInteractive',\n",
       "                                                     [key], {});\n",
       "          if (!dataTable) return;\n",
       "\n",
       "          const docLinkHtml = 'Like what you see? Visit the ' +\n",
       "            '<a target=\"_blank\" href=https://colab.research.google.com/notebooks/data_table.ipynb>data table notebook</a>'\n",
       "            + ' to learn more about interactive tables.';\n",
       "          element.innerHTML = '';\n",
       "          dataTable['output_type'] = 'display_data';\n",
       "          await google.colab.output.renderOutput(dataTable, element);\n",
       "          const docLink = document.createElement('div');\n",
       "          docLink.innerHTML = docLinkHtml;\n",
       "          element.appendChild(docLink);\n",
       "        }\n",
       "      </script>\n",
       "    </div>\n",
       "  </div>\n",
       "  "
      ],
      "text/plain": [
       "Empty DataFrame\n",
       "Columns: [count, percent]\n",
       "Index: []"
      ]
     },
     "metadata": {},
     "output_type": "display_data"
    }
   ],
   "source": [
    "def count_nulls(df):\n",
    "    null_counter = df.isnull().sum(axis=0)\n",
    "    null_counter = null_counter[null_counter > 0]\n",
    "    null_percent = df.isnull().sum(axis=0) / df.shape[0] * 100\n",
    "    null_percent = null_percent[null_percent > 0]\n",
    "    null_df = pd.concat([null_counter,null_percent],axis=1)\n",
    "    null_df.columns = ['count','percent']\n",
    "    display(null_df)\n",
    "    \n",
    "count_nulls(dfc)"
   ]
  },
  {
   "cell_type": "markdown",
   "metadata": {
    "id": "wTdNDmItTKHY"
   },
   "source": [
    "#### Subject"
   ]
  },
  {
   "cell_type": "code",
   "execution_count": null,
   "metadata": {
    "colab": {
     "base_uri": "https://localhost:8080/",
     "height": 435
    },
    "id": "W9Jc1x3yjwvP",
    "outputId": "5d4a862f-9fcf-420e-b3e7-837d5313bcc4"
   },
   "outputs": [
    {
     "data": {
      "image/png": "[encoded data removed]",
      "text/plain": [
       "<Figure size 720x504 with 1 Axes>"
      ]
     },
     "metadata": {
      "needs_background": "light"
     },
     "output_type": "display_data"
    }
   ],
   "source": [
    "unique_vals = len(dfc.Subject.unique())\n",
    "n = dfc.shape[0]\n",
    "\n",
    "\n",
    "############# PLOT\n",
    "color = sns.color_palette(\"pastel\")\n",
    "fig, ax = plt.subplots(figsize=(10, 7))\n",
    "squarify.plot(sizes=[unique_vals, n-unique_vals], label=[f'Unique: {unique_vals}', f'Non-Unique: {n-unique_vals}'], alpha=.8, color=color)\n",
    "ax.axis('off')\n",
    "\n",
    "# remove padding left and right, add some to top and bot\n",
    "fig.subplots_adjust(left=0, right=1, top=0.8, bottom=0.1)\n",
    "\n",
    "# Add title\n",
    "fig.text(\n",
    "    0, 0.87, \"Unique Values\", \n",
    "    fontsize=22, fontweight=\"bold\"\n",
    ")\n",
    "\n",
    "# Add subtitle\n",
    "fig.text(\n",
    "    0, 0.82, \"Number of unique and non-unique MRI images, 199 total\", \n",
    "    fontsize=15\n",
    ")\n",
    "plt.show()\n"
   ]
  },
  {
   "cell_type": "markdown",
   "metadata": {
    "id": "sJQDkoLY2YDw"
   },
   "source": [
    "31.78% of the data is not unique. This means that some of our data will be of the exact same person. A person could have 5 MRI scans of them taken, or 2. Having the same photo taken of a person but 5 days apart, could be useless and make cause bias in the model. We might have to remove them later or find a new dataset"
   ]
  },
  {
   "cell_type": "code",
   "execution_count": null,
   "metadata": {
    "colab": {
     "base_uri": "https://localhost:8080/",
     "height": 491
    },
    "id": "PBUJsaSELpSO",
    "outputId": "a641e0d6-6a90-4908-e80a-33a2c3ca5450"
   },
   "outputs": [
    {
     "name": "stderr",
     "output_type": "stream",
     "text": [
      "<ipython-input-14-033b7c54568a>:18: UserWarning: FixedFormatter should only be used together with FixedLocator\n",
      "  ax.xaxis.set_ticklabels([i * 20 for i in range(0, 6)], size=16, fontweight=100)\n"
     ]
    },
    {
     "data": {
      "image/png": "[encoded data removed]",
      "text/plain": [
       "<Figure size 720x504 with 1 Axes>"
      ]
     },
     "metadata": {
      "needs_background": "light"
     },
     "output_type": "display_data"
    }
   ],
   "source": [
    "duplicates = dfc.groupby(['Subject']).size().value_counts()\n",
    "names = list(map(str, duplicates.index))\n",
    "counts = duplicates.values\n",
    "\n",
    "\n",
    "############# PLOT\n",
    "fig, ax = plt.subplots(figsize=(10, 7))\n",
    "ax.barh(names, counts, height=0.55)\n",
    "\n",
    "# remove padding left and right, add some to top and bot\n",
    "fig.subplots_adjust(left=0, right=1, top=0.8, bottom=0.1)\n",
    "\n",
    "ax.spines[\"top\"].set_visible(False)\n",
    "ax.spines[\"right\"].set_visible(False)\n",
    "ax.get_yaxis().set_visible(False)\n",
    "\n",
    "# xlabels\n",
    "ax.xaxis.set_ticklabels([i * 20 for i in range(0, 6)], size=16, fontweight=100)\n",
    "\n",
    "# y labels\n",
    "for name, count in zip(names, counts):\n",
    "  if count < 8:\n",
    "    x = count\n",
    "    color = 'teal'\n",
    "  else:\n",
    "     x = 1\n",
    "     color = 'white'\n",
    "  ax.text(\n",
    "      x + 0.5, int(name) - 1, name + ' scan(s)', fontsize=15, color=color, va=\"center\",\n",
    "  )\n",
    "\n",
    "# Add title\n",
    "fig.text(\n",
    "    0, 0.87, \"Returning Users\", \n",
    "    fontsize=22, fontweight=\"bold\"\n",
    ")\n",
    "\n",
    "# Add subtitle\n",
    "fig.text(\n",
    "    0, 0.82, \"Number of patients that took n scans\", \n",
    "    fontsize=15\n",
    ")\n",
    "\n",
    "plt.show()"
   ]
  },
  {
   "cell_type": "code",
   "execution_count": null,
   "metadata": {
    "colab": {
     "base_uri": "https://localhost:8080/",
     "height": 510
    },
    "id": "fvEFPmOCk1Q_",
    "outputId": "843ca081-a847-4bde-98b6-d09707effbac"
   },
   "outputs": [
    {
     "name": "stderr",
     "output_type": "stream",
     "text": [
      "<ipython-input-15-aacfdb41b0ae>:23: UserWarning: FixedFormatter should only be used together with FixedLocator\n",
      "  ax.xaxis.set_ticklabels([i * 10 for i in range(0, 5)], size=16, fontweight=100)\n"
     ]
    },
    {
     "data": {
      "image/png": "[encoded data removed]",
      "text/plain": [
       "<Figure size 720x504 with 1 Axes>"
      ]
     },
     "metadata": {
      "needs_background": "light"
     },
     "output_type": "display_data"
    }
   ],
   "source": [
    "# dfc.groupby(['Subject']).size().apply(lambda x: (x > 1)).index\n",
    "dup_rows = dfc[dfc['Subject'].duplicated(keep=False)].loc[:,['Img_ID','Subject','Acq_year','Acq_month','Acq_day','MPR','MPR-R']]\n",
    "# duplicate rows group by yr and day\n",
    "dup_row_gb_yrd = dup_rows.groupby(['Subject', 'Acq_year','Acq_day']).size()\n",
    "count_dups = np.unique((dup_row_gb_yrd.sort_values(ascending=False) > 1).values, return_counts=True)\n",
    "\n",
    "names = np.append(count_dups[0],'False')\n",
    "counts = np.append(count_dups[1], 0)\n",
    "\n",
    "\n",
    "############# PLOT\n",
    "fig, ax = plt.subplots(figsize=(10, 7))\n",
    "ax.barh(names, counts, height=0.55)\n",
    "\n",
    "# remove padding left and right, add some to top and bot\n",
    "fig.subplots_adjust(left=0, right=1, top=0.8, bottom=0.1)\n",
    "\n",
    "ax.spines[\"top\"].set_visible(False)\n",
    "ax.spines[\"right\"].set_visible(False)\n",
    "ax.get_yaxis().set_visible(False)\n",
    "\n",
    "# xlabels\n",
    "ax.xaxis.set_ticklabels([i * 10 for i in range(0, 5)], size=16, fontweight=100)\n",
    "\n",
    "# y labels\n",
    "for name, count in zip(names, counts):\n",
    "  if count < 8:\n",
    "    x = count\n",
    "    color = 'teal'\n",
    "  else:\n",
    "     x = 1\n",
    "     color = 'white'\n",
    "  ax.text(\n",
    "      x + 0.5, np.where(names == name), name, fontsize=15, color=color, va=\"center\",\n",
    "  )\n",
    "\n",
    "ax.set_xlabel(\"Count\", fontsize=15)\n",
    "\n",
    "# Add title\n",
    "fig.text(\n",
    "    0, 0.87, \"Multiple Images\", \n",
    "    fontsize=22, fontweight=\"bold\"\n",
    ")\n",
    "\n",
    "# Add subtitle\n",
    "fig.text(\n",
    "    0, 0.82, \"Of the duplicate subjects, were the MRI images taken on the same year/month/day?\", \n",
    "    fontsize=15\n",
    ")\n",
    "\n",
    "plt.show()\n",
    "#######################"
   ]
  },
  {
   "cell_type": "markdown",
   "metadata": {
    "id": "PY7NRZOqnNf_"
   },
   "source": [
    "Every single duplicate subject had two (three for one individual) images taken on the same day. This could be due to MPR/MPR-R acquisitions where researchers take multiple MRI scans in order to improve the quality of the image. They take the average of the two images in hopes to reduce the noise and motion effects. \n",
    "\n",
    "This is something we will have to deal with later. We can remove the datapoints or we can do the MPR/MPR-R preprocessing talked about in the previous paragraph."
   ]
  },
  {
   "cell_type": "markdown",
   "metadata": {
    "id": "8zysJ9VmTVfo"
   },
   "source": [
    "#### Age"
   ]
  },
  {
   "cell_type": "code",
   "execution_count": null,
   "metadata": {
    "colab": {
     "base_uri": "https://localhost:8080/",
     "height": 1000
    },
    "id": "UhTpsUPhgPDs",
    "outputId": "a1045894-3f27-4073-d70b-563ce72d654b"
   },
   "outputs": [
    {
     "name": "stderr",
     "output_type": "stream",
     "text": [
      "/usr/local/lib/python3.8/dist-packages/seaborn/distributions.py:2619: FutureWarning: `distplot` is a deprecated function and will be removed in a future version. Please adapt your code to use either `displot` (a figure-level function with similar flexibility) or `histplot` (an axes-level function for histograms).\n",
      "  warnings.warn(msg, FutureWarning)\n"
     ]
    },
    {
     "data": {
      "image/png": "[encoded data removed]",
      "text/plain": [
       "<Figure size 720x504 with 1 Axes>"
      ]
     },
     "metadata": {
      "needs_background": "light"
     },
     "output_type": "display_data"
    },
    {
     "name": "stderr",
     "output_type": "stream",
     "text": [
      "/usr/local/lib/python3.8/dist-packages/seaborn/distributions.py:2619: FutureWarning: `distplot` is a deprecated function and will be removed in a future version. Please adapt your code to use either `displot` (a figure-level function with similar flexibility) or `histplot` (an axes-level function for histograms).\n",
      "  warnings.warn(msg, FutureWarning)\n"
     ]
    },
    {
     "data": {
      "image/png": "[encoded data removed]",
      "text/plain": [
       "<Figure size 720x504 with 1 Axes>"
      ]
     },
     "metadata": {
      "needs_background": "light"
     },
     "output_type": "display_data"
    }
   ],
   "source": [
    "# df dupes removed\n",
    "dfdr = dfc.drop_duplicates('Subject')\n",
    "\n",
    "def plot_hist(ser, bins, sub_title='Histogram of Baseline Ages'):\n",
    "  ############# PLOT\n",
    "  fig, ax = plt.subplots(figsize=(10, 7))\n",
    "  sns.distplot(a=ser, hist=True, kde=True, rug=False, bins=bins, \n",
    "               kde_kws={\"color\": \"g\", \"alpha\": 0.1, \"linewidth\": 1, \"shade\": True})\n",
    "  # sns.histplot(data=dfc['Age'], kde=True, stat='density', ax=ax, bins=20)\n",
    "\n",
    "\n",
    "  # remove padding left and right, add some to top and bot\n",
    "  fig.subplots_adjust(left=0, right=1, top=0.8, bottom=0.1)\n",
    "\n",
    "  ax.spines[\"top\"].set_visible(False)\n",
    "  ax.spines[\"right\"].set_visible(False)\n",
    "\n",
    "  # y and x ticks\n",
    "  ax.tick_params(axis='both', which='major', labelsize=15)\n",
    "\n",
    "  # y labels\n",
    "  ax.set_ylabel(\"Density\", fontsize=15)\n",
    "  ax.set_xlabel(\"Age\", fontsize=15)\n",
    "\n",
    "  # Add title\n",
    "  fig.text(\n",
    "      0, 0.87, \"Age Density\", \n",
    "      fontsize=22, fontweight=\"bold\"\n",
    "  )\n",
    "\n",
    "  # Add subtitle\n",
    "  fig.text(\n",
    "      0, 0.82, sub_title, \n",
    "      fontsize=15\n",
    "  )\n",
    "\n",
    "  plt.show()\n",
    "  #######################\n",
    "\n",
    "plot_hist(dfc['Age'], 12)\n",
    "plot_hist(dfdr['Age'], 12, \"Histogram of Baseline Ages, Duplicates Removed\")"
   ]
  },
  {
   "cell_type": "code",
   "execution_count": null,
   "metadata": {
    "colab": {
     "base_uri": "https://localhost:8080/",
     "height": 352
    },
    "id": "s46nROg47-qr",
    "outputId": "3150ecc1-05e3-4202-d5cb-4626f1349513"
   },
   "outputs": [
    {
     "data": {
      "text/plain": [
       "<seaborn.axisgrid.FacetGrid at 0x7f8139ceab50>"
      ]
     },
     "execution_count": 17,
     "metadata": {},
     "output_type": "execute_result"
    },
    {
     "data": {
      "image/png": "[encoded data removed]",
      "text/plain": [
       "<Figure size 972x324 with 3 Axes>"
      ]
     },
     "metadata": {},
     "output_type": "display_data"
    }
   ],
   "source": [
    "sns.set_theme(style=\"white\", rc={\"axes.facecolor\": (0, 0, 0, 0)})\n",
    "\n",
    "# Initialize the FacetGrid object\n",
    "pal = sns.cubehelix_palette(n_colors=3, start=0.4, rot=-.25, light=.75, dark=0.25)\n",
    "g = sns.FacetGrid(dfdr, row=\"Group\", hue=\"Group\", aspect=9, height=1.5, palette=pal, row_order=['AD', 'MCI', 'CN'])\n",
    "\n",
    "# Draw the densities in a few steps\n",
    "g.map(sns.kdeplot, \"Age\",\n",
    "      bw_adjust=.5, clip_on=False,\n",
    "      fill=True, alpha=1, linewidth=1.5)\n",
    "g.map(sns.kdeplot, \"Age\", clip_on=False, color=\"w\", lw=2, bw_adjust=.5)\n",
    "\n",
    "# passing color=None to refline() uses the hue mapping\n",
    "g.refline(y=0, linewidth=2, linestyle=\"-\", color=None, clip_on=False)\n",
    "\n",
    "# Define and use a simple function to label the plot in axes coordinates\n",
    "def label(x, color, label):\n",
    "    ax = plt.gca()\n",
    "    ax.text(0, .2, label, fontweight=\"bold\", color=color,\n",
    "            ha=\"left\", va=\"center\", fontsize=16, transform=ax.transAxes)\n",
    "    plt.xlabel('Age', fontweight='bold', fontsize=15)\n",
    "    plt.setp(ax.get_xticklabels(), fontsize=13.5)\n",
    "\n",
    "g.map(label, \"Age\")\n",
    "\n",
    "# subtitle\n",
    "g.fig.suptitle('Age Distributions for Each Stage of Cognitive Impairment',\n",
    "               ha='right',\n",
    "               fontsize=20,\n",
    "               fontweight=20)\n",
    "\n",
    "# Set the subplots to overlap\n",
    "g.figure.subplots_adjust(hspace=-.25)\n",
    "\n",
    "# Remove axes details that don't play well with overlap\n",
    "g.set_titles(\"\")\n",
    "g.set(yticks=[], ylabel=\"\")\n",
    "g.despine(bottom=True, left=True)"
   ]
  },
  {
   "cell_type": "markdown",
   "metadata": {
    "id": "jtxW8FgP491n"
   },
   "source": [
    "Age group is roughly normal with and without the duplicates."
   ]
  },
  {
   "cell_type": "markdown",
   "metadata": {
    "id": "Snl5q4MpTXx4"
   },
   "source": [
    "### Group"
   ]
  },
  {
   "cell_type": "code",
   "execution_count": null,
   "metadata": {
    "colab": {
     "base_uri": "https://localhost:8080/",
     "height": 305
    },
    "id": "eT6VSsGYf7Vn",
    "outputId": "2449a767-57cc-4195-8f36-6c59f43da85d"
   },
   "outputs": [
    {
     "data": {
      "text/plain": [
       "<AxesSubplot:xlabel='Group'>"
      ]
     },
     "execution_count": 23,
     "metadata": {},
     "output_type": "execute_result"
    },
    {
     "data": {
      "image/png": "[encoded data removed]",
      "text/plain": [
       "<Figure size 432x288 with 1 Axes>"
      ]
     },
     "metadata": {
      "needs_background": "light"
     },
     "output_type": "display_data"
    }
   ],
   "source": [
    "dfc.value_counts('Group').plot.bar()"
   ]
  },
  {
   "cell_type": "markdown",
   "metadata": {
    "id": "crzuVz3cmRtA"
   },
   "source": [
    "From the data, we can see that most of subjects have Mild Cognitive Impairment."
   ]
  },
  {
   "cell_type": "markdown",
   "metadata": {
    "id": "-eSxo3jFTaMF"
   },
   "source": [
    "#### Sex"
   ]
  },
  {
   "cell_type": "code",
   "execution_count": null,
   "metadata": {
    "colab": {
     "base_uri": "https://localhost:8080/",
     "height": 295
    },
    "id": "vyaNNU9S62jc",
    "outputId": "8d2fe5a3-3267-4a99-e6da-6aaffb0fa98c"
   },
   "outputs": [
    {
     "data": {
      "text/plain": [
       "11"
      ]
     },
     "execution_count": 24,
     "metadata": {},
     "output_type": "execute_result"
    },
    {
     "data": {
      "image/png": "[encoded data removed]",
      "text/plain": [
       "<Figure size 432x288 with 1 Axes>"
      ]
     },
     "metadata": {
      "needs_background": "light"
     },
     "output_type": "display_data"
    }
   ],
   "source": [
    "dfc.value_counts('Sex').plot.bar()\n",
    "len(dfc[dfc['Sex'] == 'F']) - len(dfc[dfc['Sex'] == 'M'])"
   ]
  },
  {
   "cell_type": "markdown",
   "metadata": {
    "id": "pJetHPfUnzzV"
   },
   "source": [
    "There are more women subjects in the data, thouogh the difference is not very big. "
   ]
  },
  {
   "cell_type": "markdown",
   "metadata": {
    "id": "eOnLImMCJ85g"
   },
   "source": [
    "Group/Sex"
   ]
  },
  {
   "cell_type": "code",
   "execution_count": null,
   "metadata": {
    "colab": {
     "base_uri": "https://localhost:8080/",
     "height": 385
    },
    "id": "dV-_5joKJ_Xr",
    "outputId": "b2861324-99d7-4e8e-bdc4-ddf0135cf1ac"
   },
   "outputs": [
    {
     "data": {
      "image/png": "[encoded data removed]",
      "text/plain": [
       "<Figure size 404.625x360 with 1 Axes>"
      ]
     },
     "metadata": {
      "needs_background": "light"
     },
     "output_type": "display_data"
    }
   ],
   "source": [
    "dfc.groupby(['Sex', 'Group']).size().unstack(fill_value=0)\n",
    "sns.catplot(x = \"Group\",       # x variable name\n",
    "            hue = \"Sex\",  # group variable name\n",
    "            data = df,     # dataframe to plot\n",
    "            kind = \"count\").set(title=\"TESTINGTESTING\")\n",
    "\n",
    "plt.show()"
   ]
  },
  {
   "cell_type": "markdown",
   "metadata": {
    "id": "qxvsUaX5oZPw"
   },
   "source": [
    "Interesting, we find that actually men subjects have more Mild Cognitive Impairment."
   ]
  },
  {
   "cell_type": "markdown",
   "metadata": {
    "id": "MyLrE1uRTmh4"
   },
   "source": [
    "#### Year"
   ]
  },
  {
   "cell_type": "code",
   "execution_count": null,
   "metadata": {
    "colab": {
     "base_uri": "https://localhost:8080/",
     "height": 312
    },
    "id": "3eZqrz1hTn6g",
    "outputId": "daa701b8-c833-4405-e85d-6c83c71e0f02"
   },
   "outputs": [
    {
     "data": {
      "text/plain": [
       "<AxesSubplot:xlabel='Acq_year'>"
      ]
     },
     "execution_count": 26,
     "metadata": {},
     "output_type": "execute_result"
    },
    {
     "data": {
      "image/png": "[encoded data removed]",
      "text/plain": [
       "<Figure size 432x288 with 1 Axes>"
      ]
     },
     "metadata": {
      "needs_background": "light"
     },
     "output_type": "display_data"
    }
   ],
   "source": [
    "dfc.value_counts('Acq_year').sort_index().plot.bar()"
   ]
  },
  {
   "cell_type": "markdown",
   "metadata": {
    "id": "5YSxSra2p-KS"
   },
   "source": [
    "Most frequent acquisition date is 2006."
   ]
  },
  {
   "cell_type": "markdown",
   "metadata": {
    "id": "qW5AkCT-OVGR"
   },
   "source": [
    "### Correlation Matrix"
   ]
  },
  {
   "cell_type": "code",
   "execution_count": null,
   "metadata": {
    "colab": {
     "base_uri": "https://localhost:8080/",
     "height": 454
    },
    "id": "vFIpJsFHqnLG",
    "outputId": "598e9c40-01ce-4c1e-8374-847af63d4f2d"
   },
   "outputs": [
    {
     "data": {
      "image/png": "[encoded data removed]",
      "text/plain": [
       "<Figure size 648x432 with 2 Axes>"
      ]
     },
     "metadata": {
      "needs_background": "light"
     },
     "output_type": "display_data"
    }
   ],
   "source": [
    "fig, ax = plt.subplots(figsize=(9, 6))\n",
    "fig.subplots_adjust(left=0, right=1, top=0.8, bottom=0.1)\n",
    "pal = sns.cubehelix_palette(start=.5, rot=-.5, as_cmap=True)\n",
    "\n",
    "# all the values of N3 and Scaled are 1, thus dropping them\n",
    "sns.heatmap(dfdr.corr(),annot=True,linewidths=0.95, cmap=pal, annot_kws={\"size\": 10}, ax=ax)\n",
    "  # Add title\n",
    "fig.text(\n",
    "    0, 0.87, \"Correlation Heatmap\", \n",
    "    fontsize=22, fontweight=\"bold\"\n",
    ")\n",
    "plt.show()"
   ]
  },
  {
   "cell_type": "code",
   "execution_count": null,
   "metadata": {
    "colab": {
     "base_uri": "https://localhost:8080/"
    },
    "id": "Zik8FP0IrcdK",
    "outputId": "4e2dac69-e76b-4ccc-b21e-b013826e02c3"
   },
   "outputs": [
    {
     "data": {
      "text/plain": [
       "array([0, 1], dtype=uint8)"
      ]
     },
     "execution_count": 40,
     "metadata": {},
     "output_type": "execute_result"
    }
   ],
   "source": [
    "print(dfc['N3'].unique())\n",
    "print(dfc['Scaled'].unique())"
   ]
  },
  {
   "cell_type": "code",
   "execution_count": null,
   "metadata": {
    "colab": {
     "base_uri": "https://localhost:8080/",
     "height": 400
    },
    "id": "vbnS35-THZ6d",
    "outputId": "70ffe848-874f-4cd0-80c9-2fb7b86b42ed"
   },
   "outputs": [
    {
     "data": {
      "image/png": "[encoded data removed]",
      "text/plain": [
       "<Figure size 648x432 with 2 Axes>"
      ]
     },
     "metadata": {},
     "output_type": "display_data"
    }
   ],
   "source": [
    "fig, ax = plt.subplots(figsize=(9, 6))\n",
    "fig.subplots_adjust(left=0, right=1, top=0.8, bottom=0.1)\n",
    "pal = sns.cubehelix_palette(start=.5, rot=-.5, as_cmap=True)\n",
    "\n",
    "# all the values of N3 and Scaled are 1, thus dropping them\n",
    "sns.heatmap(dfdr.drop(['Acq_month', 'Acq_day', 'N3', 'Scaled','MPR-R'], axis = 1).corr(),\\\n",
    "            annot=True,linewidths=0.95, cmap=pal, annot_kws={\"size\": 10}, ax=ax)\n",
    "  # Add title\n",
    "fig.text(\n",
    "    0, 0.87, \"Correlation Heatmap\", \n",
    "    fontsize=22, fontweight=\"bold\"\n",
    ")\n",
    "plt.show()"
   ]
  },
  {
   "cell_type": "markdown",
   "metadata": {
    "id": "27roB2kOJToC"
   },
   "source": [
    "Everything has almost 0 correlation. B1 Correction and GradWarp seem to be connected because they both correct image intensities caused by the MRI machine. We get NA values for N3 and Scaled because the values don't vary. If $x_i - \\bar{x} = 0 \\ ∀ \\ x ∈ X$ then $𝜌 = \\text{undefined}$. In this case, all x values are 1.\n",
    "\n",
    "$$\n",
    "𝜌_{xy} = \\frac{\\sum(x_i - \\bar{x})(y_i - \\bar{y})}{\\sqrt{\\sum(x_i - \\bar{x})^2 \\sum(y_i - \\bar{y})^2}}\n",
    "$$\n"
   ]
  },
  {
   "cell_type": "code",
   "execution_count": null,
   "metadata": {
    "id": "FK3FpTOHU1hp"
   },
   "outputs": [],
   "source": [
    "# clean with duplicates\n",
    "dfc.to_parquet(os.path.join(base_path, baseline_path, 'ADNI1_Baseline_3T_2_25_2023_clean_wd.parquet'))\n",
    "# clean with out duplicates\n",
    "dfdr.to_parquet(os.path.join(base_path, baseline_path, 'ADNI1_Baseline_3T_2_25_2023_clean_wod.parquet'))"
   ]
  }
 ],
 "metadata": {
  "colab": {
   "provenance": []
  },
  "kernelspec": {
   "display_name": "Python 3 (ipykernel)",
   "language": "python",
   "name": "python3"
  },
  "language_info": {
   "codemirror_mode": {
    "name": "ipython",
    "version": 3
   },
   "file_extension": ".py",
   "mimetype": "text/x-python",
   "name": "python",
   "nbconvert_exporter": "python",
   "pygments_lexer": "ipython3",
   "version": "3.8.12"
  }
 },
 "nbformat": 4,
 "nbformat_minor": 4
}
